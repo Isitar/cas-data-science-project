{
 "cells": [
  {
   "cell_type": "code",
   "execution_count": 1,
   "metadata": {},
   "outputs": [
    {
     "name": "stderr",
     "output_type": "stream",
     "text": [
      "2024-06-09 19:03:15.616905: I tensorflow/core/platform/cpu_feature_guard.cc:210] This TensorFlow binary is optimized to use available CPU instructions in performance-critical operations.\n",
      "To enable the following instructions: AVX2 FMA, in other operations, rebuild TensorFlow with the appropriate compiler flags.\n",
      "2024-06-09 19:03:16.321947: W tensorflow/compiler/tf2tensorrt/utils/py_utils.cc:38] TF-TRT Warning: Could not find TensorRT\n"
     ]
    },
    {
     "name": "stdout",
     "output_type": "stream",
     "text": [
      "Num GPUs Available:  0\n"
     ]
    },
    {
     "name": "stderr",
     "output_type": "stream",
     "text": [
      "2024-06-09 19:03:17.092201: I external/local_xla/xla/stream_executor/cuda/cuda_executor.cc:998] successful NUMA node read from SysFS had negative value (-1), but there must be at least one NUMA node, so returning NUMA node zero. See more at https://github.com/torvalds/linux/blob/v6.0/Documentation/ABI/testing/sysfs-bus-pci#L344-L355\n",
      "2024-06-09 19:03:17.092654: W tensorflow/core/common_runtime/gpu/gpu_device.cc:2251] Cannot dlopen some GPU libraries. Please make sure the missing libraries mentioned above are installed properly if you would like to use GPU. Follow the guide at https://www.tensorflow.org/install/gpu for how to download and setup the required libraries for your platform.\n",
      "Skipping registering GPU devices...\n"
     ]
    }
   ],
   "source": [
    "import tensorflow as tf\n",
    "print(\"Num GPUs Available: \", len(tf.config.list_physical_devices('GPU')))\n"
   ]
  },
  {
   "cell_type": "code",
   "execution_count": 4,
   "metadata": {},
   "outputs": [
    {
     "name": "stdout",
     "output_type": "stream",
     "text": [
      "data loaded\n"
     ]
    }
   ],
   "source": [
    "import sys\n",
    "sys.path.append('../')\n",
    "import LoadIntoDf\n",
    "\n",
    "import torch\n",
    "import torch.nn as nn\n",
    "import torch.optim as optim\n",
    "from torch.utils.data import DataLoader, TensorDataset, random_split\n",
    "from sklearn.model_selection import train_test_split\n",
    "from sklearn.preprocessing import StandardScaler, LabelEncoder\n",
    "from sklearn.metrics import classification_report\n",
    "from scipy.sparse import csr_matrix\n",
    "\n",
    "# Load the data\n",
    "df = LoadIntoDf.load_sqlite_data()\n",
    "print('data loaded')"
   ]
  },
  {
   "cell_type": "code",
   "execution_count": 10,
   "metadata": {},
   "outputs": [
    {
     "data": {
      "text/plain": [
       "True"
      ]
     },
     "execution_count": 10,
     "metadata": {},
     "output_type": "execute_result"
    }
   ],
   "source": [
    "torch.cuda.is_available()"
   ]
  },
  {
   "cell_type": "code",
   "execution_count": 5,
   "metadata": {},
   "outputs": [],
   "source": [
    "\n",
    "# Split data into features and labels\n",
    "X = df.drop('difficulty', axis=1).values\n",
    "y = df.difficulty.str.split('/').str[0]\n",
    "\n",
    "label_encoder = LabelEncoder()\n",
    "y = label_encoder.fit_transform(y)\n",
    "\n",
    "# Split data into training and test sets\n",
    "X_train, X_test, y_train, y_test = train_test_split(X, y, test_size=0.2, random_state=42)\n",
    "\n",
    "# Normalize the data\n",
    "scaler = StandardScaler()\n",
    "X_train = scaler.fit_transform(X_train)\n",
    "X_test = scaler.transform(X_test)"
   ]
  },
  {
   "cell_type": "code",
   "execution_count": 15,
   "metadata": {},
   "outputs": [
    {
     "name": "stdout",
     "output_type": "stream",
     "text": [
      "Using device: cuda\n"
     ]
    }
   ],
   "source": [
    "device = torch.device(\"cuda\" if torch.cuda.is_available() else \"cpu\")\n",
    "print(f'Using device: {device}')\n",
    "# Convert data to PyTorch tensors\n",
    "X_train_tensor = torch.tensor(X_train, dtype=torch.float32).to(device)\n",
    "y_train_tensor = torch.tensor(y_train, dtype=torch.long).to(device)\n",
    "X_test_tensor = torch.tensor(X_test, dtype=torch.float32).to(device)\n",
    "y_test_tensor = torch.tensor(y_test, dtype=torch.long).to(device)\n",
    "\n",
    "# Create PyTorch datasets and dataloaders\n",
    "train_dataset = TensorDataset(X_train_tensor, y_train_tensor)\n",
    "test_dataset = TensorDataset(X_test_tensor, y_test_tensor)\n",
    "\n",
    "train_loader = DataLoader(train_dataset, batch_size=32, shuffle=True)\n",
    "test_loader = DataLoader(test_dataset, batch_size=32, shuffle=False)\n"
   ]
  },
  {
   "cell_type": "code",
   "execution_count": 16,
   "metadata": {},
   "outputs": [],
   "source": [
    "\n",
    "# Define the neural network model\n",
    "class NeuralNet(nn.Module):\n",
    "    def __init__(self, input_size, num_classes):\n",
    "        super(NeuralNet, self).__init__()\n",
    "        self.layer1 = nn.Linear(input_size, 512)\n",
    "        self.layer2 = nn.Linear(512, 256)\n",
    "        self.layer3 = nn.Linear(256, 128)\n",
    "        self.layer4 = nn.Linear(128, num_classes)\n",
    "        self.dropout = nn.Dropout(0.5)\n",
    "        self.relu = nn.ReLU()\n",
    "        self.l2_reg = 0.001  # L2 regularization factor\n",
    "\n",
    "    def forward(self, x):\n",
    "        out = self.relu(self.layer1(x))\n",
    "        out = self.dropout(out)\n",
    "        out = self.relu(self.layer2(out))\n",
    "        out = self.dropout(out)\n",
    "        out = self.relu(self.layer3(out))\n",
    "        out = self.dropout(out)\n",
    "        out = self.layer4(out)\n",
    "        return out"
   ]
  },
  {
   "cell_type": "code",
   "execution_count": 17,
   "metadata": {},
   "outputs": [],
   "source": [
    "\n",
    "input_size = X_train.shape[1]\n",
    "num_classes = len(label_encoder.classes_)\n",
    "\n",
    "model = NeuralNet(input_size, num_classes).to(device)\n",
    "\n",
    "# Define the loss function and optimizer\n",
    "criterion = nn.CrossEntropyLoss()\n",
    "optimizer = optim.Adam(model.parameters(), weight_decay=model.l2_reg)\n"
   ]
  },
  {
   "cell_type": "code",
   "execution_count": 20,
   "metadata": {},
   "outputs": [
    {
     "name": "stdout",
     "output_type": "stream",
     "text": [
      "Epoch [1/2], Step [1/4345], Loss: 2.1687\n",
      "Epoch [1/2], Step [101/4345], Loss: 2.4317\n",
      "Epoch [1/2], Step [201/4345], Loss: 2.0893\n",
      "Epoch [1/2], Step [301/4345], Loss: 2.1963\n",
      "Epoch [1/2], Step [401/4345], Loss: 2.1510\n",
      "Epoch [1/2], Step [501/4345], Loss: 2.2197\n",
      "Epoch [1/2], Step [601/4345], Loss: 2.1119\n",
      "Epoch [1/2], Step [701/4345], Loss: 2.1166\n",
      "Epoch [1/2], Step [801/4345], Loss: 2.0399\n",
      "Epoch [1/2], Step [901/4345], Loss: 1.9515\n",
      "Epoch [1/2], Step [1001/4345], Loss: 2.0275\n",
      "Epoch [1/2], Step [1101/4345], Loss: 2.1541\n",
      "Epoch [1/2], Step [1201/4345], Loss: 2.5040\n",
      "Epoch [1/2], Step [1301/4345], Loss: 2.4448\n",
      "Epoch [1/2], Step [1401/4345], Loss: 2.1129\n",
      "Epoch [1/2], Step [1501/4345], Loss: 2.1834\n",
      "Epoch [1/2], Step [1601/4345], Loss: 2.0541\n",
      "Epoch [1/2], Step [1701/4345], Loss: 2.3450\n",
      "Epoch [1/2], Step [1801/4345], Loss: 2.1588\n",
      "Epoch [1/2], Step [1901/4345], Loss: 2.3018\n",
      "Epoch [1/2], Step [2001/4345], Loss: 2.1495\n",
      "Epoch [1/2], Step [2101/4345], Loss: 1.8371\n",
      "Epoch [1/2], Step [2201/4345], Loss: 2.0112\n",
      "Epoch [1/2], Step [2301/4345], Loss: 1.9853\n",
      "Epoch [1/2], Step [2401/4345], Loss: 2.1308\n",
      "Epoch [1/2], Step [2501/4345], Loss: 2.1088\n",
      "Epoch [1/2], Step [2601/4345], Loss: 2.0730\n",
      "Epoch [1/2], Step [2701/4345], Loss: 2.1809\n",
      "Epoch [1/2], Step [2801/4345], Loss: 2.0804\n",
      "Epoch [1/2], Step [2901/4345], Loss: 2.1043\n",
      "Epoch [1/2], Step [3001/4345], Loss: 2.1249\n",
      "Epoch [1/2], Step [3101/4345], Loss: 2.4778\n",
      "Epoch [1/2], Step [3201/4345], Loss: 2.2069\n",
      "Epoch [1/2], Step [3301/4345], Loss: 2.6333\n",
      "Epoch [1/2], Step [3401/4345], Loss: 2.2734\n",
      "Epoch [1/2], Step [3501/4345], Loss: 2.5105\n",
      "Epoch [1/2], Step [3601/4345], Loss: 2.2373\n",
      "Epoch [1/2], Step [3701/4345], Loss: 2.2109\n",
      "Epoch [1/2], Step [3801/4345], Loss: 2.1481\n",
      "Epoch [1/2], Step [3901/4345], Loss: 2.2610\n",
      "Epoch [1/2], Step [4001/4345], Loss: 2.3461\n",
      "Epoch [1/2], Step [4101/4345], Loss: 2.2292\n",
      "Epoch [1/2], Step [4201/4345], Loss: 2.3592\n",
      "Epoch [1/2], Step [4301/4345], Loss: 2.3933\n",
      "Epoch [1/2], Loss: 2.2205, Accuracy: 0.1989\n",
      "Epoch [2/2], Step [1/4345], Loss: 2.1152\n",
      "Epoch [2/2], Step [101/4345], Loss: 2.2180\n",
      "Epoch [2/2], Step [201/4345], Loss: 2.2138\n",
      "Epoch [2/2], Step [301/4345], Loss: 2.2008\n",
      "Epoch [2/2], Step [401/4345], Loss: 2.0685\n",
      "Epoch [2/2], Step [501/4345], Loss: 2.1375\n",
      "Epoch [2/2], Step [601/4345], Loss: 2.4482\n",
      "Epoch [2/2], Step [701/4345], Loss: 2.3252\n",
      "Epoch [2/2], Step [801/4345], Loss: 2.2713\n",
      "Epoch [2/2], Step [901/4345], Loss: 2.2626\n",
      "Epoch [2/2], Step [1001/4345], Loss: 2.0989\n",
      "Epoch [2/2], Step [1101/4345], Loss: 1.9245\n",
      "Epoch [2/2], Step [1201/4345], Loss: 2.3196\n",
      "Epoch [2/2], Step [1301/4345], Loss: 2.8705\n",
      "Epoch [2/2], Step [1401/4345], Loss: 2.0234\n",
      "Epoch [2/2], Step [1501/4345], Loss: 2.1004\n",
      "Epoch [2/2], Step [1601/4345], Loss: 2.2899\n",
      "Epoch [2/2], Step [1701/4345], Loss: 1.9866\n",
      "Epoch [2/2], Step [1801/4345], Loss: 2.3971\n",
      "Epoch [2/2], Step [1901/4345], Loss: 2.1597\n",
      "Epoch [2/2], Step [2001/4345], Loss: 2.2940\n",
      "Epoch [2/2], Step [2101/4345], Loss: 2.1855\n",
      "Epoch [2/2], Step [2201/4345], Loss: 2.1065\n",
      "Epoch [2/2], Step [2301/4345], Loss: 1.9957\n",
      "Epoch [2/2], Step [2401/4345], Loss: 1.9866\n",
      "Epoch [2/2], Step [2501/4345], Loss: 2.0490\n",
      "Epoch [2/2], Step [2601/4345], Loss: 2.3143\n",
      "Epoch [2/2], Step [2701/4345], Loss: 2.0602\n",
      "Epoch [2/2], Step [2801/4345], Loss: 2.2455\n",
      "Epoch [2/2], Step [2901/4345], Loss: 2.0099\n",
      "Epoch [2/2], Step [3001/4345], Loss: 2.1387\n",
      "Epoch [2/2], Step [3101/4345], Loss: 2.4821\n",
      "Epoch [2/2], Step [3201/4345], Loss: 2.1404\n",
      "Epoch [2/2], Step [3301/4345], Loss: 2.4359\n",
      "Epoch [2/2], Step [3401/4345], Loss: 2.0920\n",
      "Epoch [2/2], Step [3501/4345], Loss: 2.4301\n",
      "Epoch [2/2], Step [3601/4345], Loss: 2.2158\n",
      "Epoch [2/2], Step [3701/4345], Loss: 2.4752\n",
      "Epoch [2/2], Step [3801/4345], Loss: 2.1564\n",
      "Epoch [2/2], Step [3901/4345], Loss: 2.2838\n",
      "Epoch [2/2], Step [4001/4345], Loss: 2.2245\n",
      "Epoch [2/2], Step [4101/4345], Loss: 2.1424\n",
      "Epoch [2/2], Step [4201/4345], Loss: 2.2179\n",
      "Epoch [2/2], Step [4301/4345], Loss: 2.2529\n",
      "Epoch [2/2], Loss: 2.2221, Accuracy: 0.1984\n",
      "Test Accuracy: 0.2199\n"
     ]
    }
   ],
   "source": [
    "\n",
    "# Training the model\n",
    "num_epochs = 2\n",
    "\n",
    "for epoch in range(num_epochs):\n",
    "    model.train()\n",
    "    total_loss = 0\n",
    "    correct = 0\n",
    "    total = 0\n",
    "    \n",
    "    for i, (inputs, labels) in enumerate(train_loader):\n",
    "         # Move inputs and labels to GPU\n",
    "        inputs, labels = inputs.to(device), labels.to(device)\n",
    "      \n",
    "        # Zero the parameter gradients\n",
    "        optimizer.zero_grad()\n",
    "        \n",
    "        # Forward pass\n",
    "        outputs = model(inputs)\n",
    "        loss = criterion(outputs, labels)\n",
    "        \n",
    "        # Backward pass and optimize\n",
    "        loss.backward()\n",
    "        optimizer.step()\n",
    "        \n",
    "        total_loss += loss.item()\n",
    "        _, predicted = torch.max(outputs.data, 1)\n",
    "        total += labels.size(0)\n",
    "        correct += (predicted == labels).sum().item()\n",
    "        \n",
    "        if i % 100 == 0:\n",
    "            print(f'Epoch [{epoch+1}/{num_epochs}], Step [{i+1}/{len(train_loader)}], Loss: {loss.item():.4f}')\n",
    "    \n",
    "    epoch_loss = total_loss / len(train_loader)\n",
    "    epoch_accuracy = correct / total\n",
    "    print(f'Epoch [{epoch+1}/{num_epochs}], Loss: {epoch_loss:.4f}, Accuracy: {epoch_accuracy:.4f}')\n",
    "\n",
    "# Evaluate the model\n",
    "model.eval()\n",
    "with torch.no_grad():\n",
    "    correct = 0\n",
    "    total = 0\n",
    "    all_labels = []\n",
    "    all_preds = []\n",
    "    \n",
    "    for inputs, labels in test_loader:\n",
    "\n",
    "        inputs, labels = inputs.to(device), labels.to(device)\n",
    "        outputs = model(inputs)\n",
    "        _, predicted = torch.max(outputs.data, 1)\n",
    "        total += labels.size(0)\n",
    "        correct += (predicted == labels).sum().item()\n",
    "        all_labels.extend(labels.cpu().numpy())\n",
    "        all_preds.extend(predicted.cpu().numpy())\n",
    "        \n",
    "    test_accuracy = correct / total\n",
    "    print(f'Test Accuracy: {test_accuracy:.4f}')\n",
    "\n",
    "    # Generate classification report\n"
   ]
  },
  {
   "cell_type": "code",
   "execution_count": 30,
   "metadata": {},
   "outputs": [
    {
     "name": "stdout",
     "output_type": "stream",
     "text": [
      "              precision    recall  f1-score   support\n",
      "\n",
      "          4a       0.42      0.49      0.45       818\n",
      "          4b       0.18      0.07      0.10       651\n",
      "          4c       0.00      0.00      0.00       620\n",
      "          5a       0.19      0.03      0.06      1113\n",
      "          5b       0.00      0.00      0.00      1117\n",
      "          5c       0.20      0.40      0.27      2084\n",
      "          6a       0.25      0.28      0.26      2834\n",
      "         6a+       0.00      0.00      0.00      2284\n",
      "          6b       0.20      0.42      0.27      3125\n",
      "         6b+       0.00      0.00      0.00      2587\n",
      "          6c       0.21      0.18      0.20      3428\n",
      "         6c+       0.00      0.00      0.00      2697\n",
      "          7a       0.22      0.59      0.32      3816\n",
      "         7a+       0.21      0.39      0.27      2874\n",
      "          7b       0.19      0.00      0.01      1791\n",
      "         7b+       0.00      0.00      0.00      1157\n",
      "          7c       0.26      0.15      0.19       984\n",
      "         7c+       0.29      0.05      0.08       511\n",
      "          8a       0.23      0.17      0.19       202\n",
      "         8a+       0.00      0.00      0.00        56\n",
      "          8b       0.00      0.00      0.00        11\n",
      "         8b+       0.00      0.00      0.00         1\n",
      "\n",
      "    accuracy                           0.22     34761\n",
      "   macro avg       0.14      0.15      0.12     34761\n",
      "weighted avg       0.15      0.22      0.16     34761\n",
      "\n"
     ]
    },
    {
     "name": "stderr",
     "output_type": "stream",
     "text": [
      "/home/isitar/Projects/cas-data-science/00_Projektarbeit/cas-project/lib64/python3.12/site-packages/sklearn/metrics/_classification.py:1517: UndefinedMetricWarning: Precision is ill-defined and being set to 0.0 in labels with no predicted samples. Use `zero_division` parameter to control this behavior.\n",
      "  _warn_prf(average, modifier, f\"{metric.capitalize()} is\", len(result))\n",
      "/home/isitar/Projects/cas-data-science/00_Projektarbeit/cas-project/lib64/python3.12/site-packages/sklearn/metrics/_classification.py:1517: UndefinedMetricWarning: Precision is ill-defined and being set to 0.0 in labels with no predicted samples. Use `zero_division` parameter to control this behavior.\n",
      "  _warn_prf(average, modifier, f\"{metric.capitalize()} is\", len(result))\n",
      "/home/isitar/Projects/cas-data-science/00_Projektarbeit/cas-project/lib64/python3.12/site-packages/sklearn/metrics/_classification.py:1517: UndefinedMetricWarning: Precision is ill-defined and being set to 0.0 in labels with no predicted samples. Use `zero_division` parameter to control this behavior.\n",
      "  _warn_prf(average, modifier, f\"{metric.capitalize()} is\", len(result))\n"
     ]
    }
   ],
   "source": [
    "print(classification_report(all_labels, all_preds, target_names=label_encoder.classes_[:-1]))\n"
   ]
  },
  {
   "cell_type": "code",
   "execution_count": 29,
   "metadata": {},
   "outputs": [
    {
     "data": {
      "text/plain": [
       "23"
      ]
     },
     "execution_count": 29,
     "metadata": {},
     "output_type": "execute_result"
    }
   ],
   "source": [
    "\n",
    "num_classes = len(label_encoder.classes_)\n",
    "num_classes"
   ]
  },
  {
   "cell_type": "code",
   "execution_count": null,
   "metadata": {},
   "outputs": [],
   "source": []
  }
 ],
 "metadata": {
  "kernelspec": {
   "display_name": "cas-project",
   "language": "python",
   "name": "python3"
  },
  "language_info": {
   "codemirror_mode": {
    "name": "ipython",
    "version": 3
   },
   "file_extension": ".py",
   "mimetype": "text/x-python",
   "name": "python",
   "nbconvert_exporter": "python",
   "pygments_lexer": "ipython3",
   "version": "3.12.3"
  }
 },
 "nbformat": 4,
 "nbformat_minor": 2
}
